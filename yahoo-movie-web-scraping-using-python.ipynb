{
 "cells": [
  {
   "cell_type": "markdown",
   "metadata": {},
   "source": [
    "# Python 爬蟲實戰範例｜學會抓取 Yahoo奇摩最新電影\n",
    "提供給想學習 Python 爬蟲的朋友們，分享 Python 爬蟲的步驟與方法，並提供完整的程式碼，只要常透過不同主題的實戰練習，就可以駕輕就熟爬蟲技術，往後要抓取網頁資料，就能夠輕易上手\n",
    "\n",
    "網站文章：https://www.webscrapingpro.tw/yahoo-movie-web-scraping-using-python/"
   ]
  },
  {
   "cell_type": "code",
   "execution_count": 4,
   "metadata": {},
   "outputs": [
    {
     "name": "stdout",
     "output_type": "stream",
     "text": [
      "玩命關頭9(Fast & Furious 9) 上映日：2021-08-11 期待度：92%\n",
      "脫稿玩家(Original title: Free Guy) 上映日：2021-08-12 期待度：100%\n",
      "被偷走的童年(When Hitler Stole Pink Rabbit) 上映日：2021-08-13 期待度：98%\n",
      "感動她77次(77 Heartwarmings) 上映日：2021-08-13 期待度：99%\n",
      "汪汪隊立大功電影版(PAW Patrol: The Movie) 上映日：2021-08-13 期待度：100%\n",
      "第六感追緝令(Basic Instinct) 上映日：2021-08-13 期待度：100%\n",
      "未來之書(The Book of Vision) 上映日：2021-08-13 期待度：100%\n"
     ]
    }
   ],
   "source": [
    "import csv\n",
    "import requests\n",
    "from bs4 import BeautifulSoup\n",
    "\n",
    "url = 'https://movies.yahoo.com.tw/movie_thisweek.html'\n",
    "response = requests.get(url=url)\n",
    "\n",
    "soup = BeautifulSoup(response.text, 'lxml')\n",
    "\n",
    "info_items = soup.find_all('div', 'release_info')\n",
    "\n",
    "with open('本週新片.csv', 'w', encoding='utf-8', newline='') as csv_file:\n",
    "    \n",
    "    csv_writer = csv.writer(csv_file)\n",
    "    csv_writer.writerow(['電影片名', '電影英文片名', '上映時間', '網友期待度'])\n",
    "\n",
    "    for item in info_items:\n",
    "\n",
    "        name = item.find('div', 'release_movie_name').a.text.strip()\n",
    "        english_name = item.find('div', 'en').a.text.strip()\n",
    "        release_time = item.find('div', 'release_movie_time').text.split('：')[-1].strip()\n",
    "        level = item.find('div', 'leveltext').span.text.strip()\n",
    "        \n",
    "        csv_writer.writerow([name, english_name, release_time, level])\n",
    "        print('{}({}) 上映日：{} 期待度：{}'.format(name, english_name, release_time, level))"
   ]
  }
 ],
 "metadata": {
  "kernelspec": {
   "display_name": "Python 3",
   "language": "python",
   "name": "python3"
  },
  "language_info": {
   "codemirror_mode": {
    "name": "ipython",
    "version": 3
   },
   "file_extension": ".py",
   "mimetype": "text/x-python",
   "name": "python",
   "nbconvert_exporter": "python",
   "pygments_lexer": "ipython3",
   "version": "3.7.6"
  }
 },
 "nbformat": 4,
 "nbformat_minor": 2
}
